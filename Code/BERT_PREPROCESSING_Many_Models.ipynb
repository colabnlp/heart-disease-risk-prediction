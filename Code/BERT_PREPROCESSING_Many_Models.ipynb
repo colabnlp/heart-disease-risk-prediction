{
 "cells": [
  {
   "cell_type": "code",
   "execution_count": 14,
   "metadata": {},
   "outputs": [],
   "source": [
    "import xml.etree.cElementTree as ET\n",
    "import os\n",
    "import nltk\n",
    "import string\n",
    "import pandas as pd\n",
    "from pandas import DataFrame\n",
    "from sklearn.preprocessing import LabelEncoder"
   ]
  },
  {
   "cell_type": "code",
   "execution_count": 4,
   "metadata": {},
   "outputs": [
    {
     "name": "stdout",
     "output_type": "stream",
     "text": [
      "[name: \"/device:CPU:0\"\n",
      "device_type: \"CPU\"\n",
      "memory_limit: 268435456\n",
      "locality {\n",
      "}\n",
      "incarnation: 645310353365086580\n",
      ", name: \"/device:GPU:0\"\n",
      "device_type: \"GPU\"\n",
      "memory_limit: 10193742398\n",
      "locality {\n",
      "  bus_id: 1\n",
      "  links {\n",
      "  }\n",
      "}\n",
      "incarnation: 11584288440690811715\n",
      "physical_device_desc: \"device: 0, name: GeForce GTX TITAN X, pci bus id: 0000:01:00.0, compute capability: 5.2\"\n",
      "]\n"
     ]
    }
   ],
   "source": [
    "from tensorflow.python.client import device_lib\n",
    "print(device_lib.list_local_devices())"
   ]
  },
  {
   "cell_type": "markdown",
   "metadata": {},
   "source": [
    "### Get the files for parsing"
   ]
  },
  {
   "cell_type": "code",
   "execution_count": 5,
   "metadata": {},
   "outputs": [
    {
     "data": {
      "text/plain": [
       "['E:\\\\Google Drive\\\\Berkeley\\\\Courses\\\\w266_NLP\\\\Final Project\\\\data_all\\\\06_training-RiskFactors-Complete-Set1\\\\220-01.xml',\n",
       " 'E:\\\\Google Drive\\\\Berkeley\\\\Courses\\\\w266_NLP\\\\Final Project\\\\data_all\\\\06_training-RiskFactors-Complete-Set1\\\\220-02.xml',\n",
       " 'E:\\\\Google Drive\\\\Berkeley\\\\Courses\\\\w266_NLP\\\\Final Project\\\\data_all\\\\06_training-RiskFactors-Complete-Set1\\\\220-03.xml',\n",
       " 'E:\\\\Google Drive\\\\Berkeley\\\\Courses\\\\w266_NLP\\\\Final Project\\\\data_all\\\\06_training-RiskFactors-Complete-Set1\\\\220-04.xml',\n",
       " 'E:\\\\Google Drive\\\\Berkeley\\\\Courses\\\\w266_NLP\\\\Final Project\\\\data_all\\\\06_training-RiskFactors-Complete-Set1\\\\220-05.xml']"
      ]
     },
     "execution_count": 5,
     "metadata": {},
     "output_type": "execute_result"
    }
   ],
   "source": [
    "# set to the appropriate folder on your local drive\n",
    "codefolder = os.path.dirname(os.path.abspath('__file__'))\n",
    "\n",
    "datafolders = ['\\\\data_all\\\\06_training-RiskFactors-Complete-Set1\\\\','\\\\data_all\\\\09_training-RiskFactors-Complete-Set2\\\\']\n",
    "filenames = []\n",
    "\n",
    "for folder in datafolders:\n",
    "    for file in os.listdir(str(codefolder)+folder):\n",
    "        filename=os.fsdecode(os.fsencode((str(codefolder)+folder+file)))\n",
    "        if filename.endswith(('.xml')):\n",
    "            filenames.append(filename)\n",
    "\n",
    "filenames[:5]"
   ]
  },
  {
   "cell_type": "markdown",
   "metadata": {},
   "source": [
    "### Define function to get tokens & their attributes"
   ]
  },
  {
   "cell_type": "code",
   "execution_count": 6,
   "metadata": {},
   "outputs": [],
   "source": [
    "def spans(text):\n",
    "    tokens = nltk.word_tokenize(text.lower())\n",
    "    offset = 0\n",
    "    start_indices = []\n",
    "    end_indices = []\n",
    "    for token in tokens:\n",
    "        offset = text.find(token, offset)\n",
    "        start, end = offset, offset+len(token)\n",
    "        offset += len(token)\n",
    "        start_indices.append(start)\n",
    "        end_indices.append(end)\n",
    "    return tokens, start_indices, end_indices"
   ]
  },
  {
   "cell_type": "markdown",
   "metadata": {},
   "source": [
    "### Define function to generate IO Coding (Model2)\n",
    "\n",
    "IO coding is a technique for extracting entities, where in the input sentence is tokenized and analyzed for occurences of words that belong to an entity of interest.  It follows the following scheme:\n",
    "\n",
    "* I - marks beginning/inside of the entity\n",
    "* O - marks that the token is NOT part of any entity"
   ]
  },
  {
   "cell_type": "code",
   "execution_count": 7,
   "metadata": {},
   "outputs": [],
   "source": [
    "def Generate_IO_Coding(file_path, tag, attribute):\n",
    "    \"\"\"\n",
    "    Function defined to take in a file for processing, tag and attributes to identify\n",
    "    within the file (xml).  The tags are first read into objects, capturing the label,\n",
    "    start and end values.  These are references in the 'text' object, where based on\n",
    "    which the annotators did identify the tag in context. \n",
    "    \n",
    "    This information is used to parse through the text (as tokens) and perform the BIO\n",
    "    coding based on the start position matches.\n",
    "    \n",
    "    Input: \n",
    "    file_path: path of the file to be read in for processing\n",
    "    tag: tag, as identified in the annotation.  Ex: DIABETES, HYPERTENSION etc.\n",
    "    attribute: specific attribute within the tag, from which to extract the value from\n",
    "    \n",
    "    Returns: \n",
    "    list of tokens, list of labels (IO coding)\n",
    "    \"\"\"\n",
    "    \n",
    "    tree = ET.ElementTree(file=file_path)\n",
    "    root = tree.getroot()\n",
    "\n",
    "    text = root.find('TEXT').text.lower()\n",
    "    \n",
    "    tokens, start, end = spans(text)\n",
    "    labels_list = []\n",
    "    label_start = []\n",
    "    label_end = []\n",
    "    filename = []\n",
    "\n",
    "\n",
    "    for item in root.find(\"TAGS\"):\n",
    "        if item.tag  == tag:\n",
    "            label = (item.tag + \".\" + item.attrib[attribute]).lower().replace(\" \", \"_\")\n",
    "        else:\n",
    "            label = \"\"\n",
    "\n",
    "        for sub_item in item.findall(item.tag):\n",
    "            if 'start' in sub_item.attrib.keys():\n",
    "                labels_list.append(label)\n",
    "                label_start.append(int(sub_item.attrib['start']))\n",
    "                label_end.append(int(sub_item.attrib['end']))\n",
    "\n",
    "        bio_labels = []\n",
    "\n",
    "        count = 0\n",
    "\n",
    "    while len(start) > count:\n",
    "        if start[count] in label_start:\n",
    "            label_start_index = label_start.index(start[count])\n",
    "            end_index = label_end[label_start_index]\n",
    "            word_label = labels_list[label_start_index]\n",
    "            phrase = text[start[count]:end_index]\n",
    "            phrase_tokens = nltk.word_tokenize(phrase)\n",
    "            # update the tag to 'I-' so that this generates IO-Coding\n",
    "            next_tag=\"I-\"\n",
    "            for word in phrase_tokens:\n",
    "                if (len(word_label) > 0):\n",
    "                    new_label = next_tag + word_label\n",
    "                    bio_labels.append(new_label)\n",
    "                    next_tag=\"I-\"\n",
    "                else:\n",
    "                    bio_labels.append(\"O\")\n",
    "                count += 1\n",
    "        else:\n",
    "            bio_labels.append(\"O\")\n",
    "            count += 1 \n",
    "\n",
    "    # build this list to hold name of the file the token belongs to\n",
    "    # this is for the purpose of evaluation of the model from test results\n",
    "    for i in range(0, len(tokens)):\n",
    "        filename.append(file_path)\n",
    "        \n",
    "    return filename, tokens, bio_labels"
   ]
  },
  {
   "cell_type": "code",
   "execution_count": 8,
   "metadata": {},
   "outputs": [],
   "source": [
    "def getIOCoding_data(tag, attrib, filenames):\n",
    "\n",
    "    \"\"\"\n",
    "    All files in the list (which holds the list of files in the directory) are parsed through\n",
    "    and the Generate_BIO_Coding function is called by passing individual files within the folder.\n",
    "    \n",
    "    The tags and attributes are passed on to the function as parameters.\n",
    "    \n",
    "    Input: \n",
    "    filenames: names of the file to be read in for processing in a list object\n",
    "    tag: tag, as identified in the annotation.  Ex: DIABETES, HYPERTENSION etc. (string)\n",
    "    attribute: specific attribute within the tag, from which to extract the value from (string)\n",
    "    \n",
    "    Returns: \n",
    "    list of tokens, list of labels (BIO coding, done across all files in the path for the tag/attribute)\n",
    "    \"\"\"\n",
    "    \n",
    "    all_tokens = []\n",
    "    all_labels = []\n",
    "    all_filenames = []\n",
    "\n",
    "    for file in filenames:\n",
    "        #print(\"processing file ... \", file)\n",
    "        filename, tokens, bio_labels = Generate_IO_Coding(file_path=file, tag=tag, attribute=attrib)\n",
    "\n",
    "        all_tokens.extend(tokens)\n",
    "        all_labels.extend(bio_labels)\n",
    "        all_filenames.extend(filename)  # this is for the purpose of validating test results\n",
    "        #print(\"finished processing file \", file, \"; and token length is \", len(all_tokens), \"; and label length: \", len(all_labels))\n",
    "        \n",
    "    return all_filenames, all_tokens, all_labels\n"
   ]
  },
  {
   "cell_type": "markdown",
   "metadata": {},
   "source": [
    "### Generate Data for Models\n",
    "\n",
    "The goal is to generate the tokens and the corresponding labels specific to model of interest.  Below, we will be building the data for `time` attribute for the following tags:\n",
    "\n",
    "* **Model 3a:** DIABETES\n",
    "* **Model 3b:** CAD\n",
    "* **Model 3c:** HYPERTENSION\n",
    "* **Model 3d:** HYPERLIPIDEMIA\n",
    "* **Model 3e:** OBESE\n",
    "* **Model 3f:** MEDICATION"
   ]
  },
  {
   "cell_type": "code",
   "execution_count": 18,
   "metadata": {},
   "outputs": [],
   "source": [
    "def preprocess_input(tag, attribute, filenames, input_type=\"train\"):\n",
    "    files, tokens, labels = getIOCoding_data(tag, attribute, filenames)\n",
    "    df = pd.DataFrame({'filename': files, 'token': tokens, 'label': labels})\n",
    "    \n",
    "    if (input_type == \"train\") or (input_type == \"dev\"):\n",
    "        le = LabelEncoder()\n",
    "        # Train - CoLA Format\n",
    "        df_bert = pd.DataFrame({'user_id':df.index, \n",
    "                                'label':le.fit_transform(df['label']), \n",
    "                                'alpha':['a']*df.shape[0], \n",
    "                                'text':df['token'].replace(r'\\n',' ', regex=True)})\n",
    "    \n",
    "    elif input_type == \"test\":\n",
    "        # Test -  CoLA Format\n",
    "        df_bert = pd.DataFrame({'id':df.index, \n",
    "                                'sentence':df['token'].replace(r'\\n', ' ', regex=True)})\n",
    "    \n",
    "    path = os.path.join(os.path.dirname(os.path.abspath('__file__')), tag + \"_\" + attribute)\n",
    "    if os.path.exists(path) == False:\n",
    "        os.makedirs(path)\n",
    "    df_bert.to_csv(os.path.join(path, input_type+\".tsv\"), sep='\\t', index=False, header=False)\n",
    "    return df_bert"
   ]
  },
  {
   "cell_type": "code",
   "execution_count": 19,
   "metadata": {},
   "outputs": [],
   "source": [
    "df_train = preprocess_input(\"DIABETES\", \"time\", filenames, input_type=\"train\")"
   ]
  },
  {
   "cell_type": "code",
   "execution_count": null,
   "metadata": {},
   "outputs": [],
   "source": []
  }
 ],
 "metadata": {
  "kernelspec": {
   "display_name": "Python 3",
   "language": "python",
   "name": "python3"
  },
  "language_info": {
   "codemirror_mode": {
    "name": "ipython",
    "version": 3
   },
   "file_extension": ".py",
   "mimetype": "text/x-python",
   "name": "python",
   "nbconvert_exporter": "python",
   "pygments_lexer": "ipython3",
   "version": "3.6.8"
  }
 },
 "nbformat": 4,
 "nbformat_minor": 2
}
